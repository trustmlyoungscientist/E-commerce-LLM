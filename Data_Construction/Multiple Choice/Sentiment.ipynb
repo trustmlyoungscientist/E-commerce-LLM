{
 "cells": [
  {
   "cell_type": "code",
   "execution_count": 1,
   "id": "fc7fea36",
   "metadata": {},
   "outputs": [],
   "source": [
    "import pandas as pd\n",
    "import json\n",
    "import random\n",
    "import matplotlib.pyplot as plt\n",
    "import gc\n",
    "import copy\n",
    "from tqdm import tqdm\n",
    "import os"
   ]
  },
  {
   "cell_type": "code",
   "execution_count": 3,
   "id": "d0420ba7-b023-4df0-81a3-0d5714855c4e",
   "metadata": {},
   "outputs": [
    {
     "data": {
      "text/html": [
       "<div>\n",
       "<style scoped>\n",
       "    .dataframe tbody tr th:only-of-type {\n",
       "        vertical-align: middle;\n",
       "    }\n",
       "\n",
       "    .dataframe tbody tr th {\n",
       "        vertical-align: top;\n",
       "    }\n",
       "\n",
       "    .dataframe thead th {\n",
       "        text-align: right;\n",
       "    }\n",
       "</style>\n",
       "<table border=\"1\" class=\"dataframe\">\n",
       "  <thead>\n",
       "    <tr style=\"text-align: right;\">\n",
       "      <th></th>\n",
       "      <th>userName</th>\n",
       "      <th>verified</th>\n",
       "      <th>itemName</th>\n",
       "      <th>description</th>\n",
       "      <th>image</th>\n",
       "      <th>brand</th>\n",
       "      <th>feature</th>\n",
       "      <th>category</th>\n",
       "      <th>price</th>\n",
       "      <th>rating</th>\n",
       "      <th>reviewTime</th>\n",
       "      <th>summary</th>\n",
       "      <th>reviewText</th>\n",
       "      <th>vote</th>\n",
       "    </tr>\n",
       "  </thead>\n",
       "  <tbody>\n",
       "    <tr>\n",
       "      <th>0</th>\n",
       "      <td>Amazon Customer</td>\n",
       "      <td>True</td>\n",
       "      <td>Toblerone Swiss Milk Chocolate Bar, Crunchy Sa...</td>\n",
       "      <td>[\"Made from deliciously decadent ingredients, ...</td>\n",
       "      <td>['https://images-na.ssl-images-amazon.com/imag...</td>\n",
       "      <td>Toblerone</td>\n",
       "      <td>[]</td>\n",
       "      <td>Prime_Pantry</td>\n",
       "      <td>$1.63</td>\n",
       "      <td>5.0</td>\n",
       "      <td>2018-01-01</td>\n",
       "      <td>Five Stars</td>\n",
       "      <td>super smooth and yummy with crunchy bits</td>\n",
       "      <td>0</td>\n",
       "    </tr>\n",
       "    <tr>\n",
       "      <th>1</th>\n",
       "      <td>Carla</td>\n",
       "      <td>True</td>\n",
       "      <td>Prince of Peace Organic Tea, Oolong, 100 Tea Bags</td>\n",
       "      <td>['Prince of Peace Enterprises, Inc., founded i...</td>\n",
       "      <td>['https://images-na.ssl-images-amazon.com/imag...</td>\n",
       "      <td>Prince Of Peace</td>\n",
       "      <td>[]</td>\n",
       "      <td>Grocery_and_Gourmet_Food</td>\n",
       "      <td>$6.40</td>\n",
       "      <td>5.0</td>\n",
       "      <td>2018-01-01</td>\n",
       "      <td>Five Stars</td>\n",
       "      <td>Perfect for kombucha</td>\n",
       "      <td>0</td>\n",
       "    </tr>\n",
       "    <tr>\n",
       "      <th>2</th>\n",
       "      <td>Jaclyn</td>\n",
       "      <td>True</td>\n",
       "      <td>Pet Champion Adjustable No-Pull Harness, Colla...</td>\n",
       "      <td>[\"The Pet Champion Large/ Extra Large 22-36 in...</td>\n",
       "      <td>['https://images-na.ssl-images-amazon.com/imag...</td>\n",
       "      <td>Pet Champion</td>\n",
       "      <td>['Features Bright Pink Lemonade pattern', 'Dua...</td>\n",
       "      <td>Pet_Supplies</td>\n",
       "      <td>$7.99</td>\n",
       "      <td>5.0</td>\n",
       "      <td>2018-01-01</td>\n",
       "      <td>she has an odd shape chest and her pull over h...</td>\n",
       "      <td>Finally a harness that fits my puppy. I really...</td>\n",
       "      <td>0</td>\n",
       "    </tr>\n",
       "    <tr>\n",
       "      <th>3</th>\n",
       "      <td>Christinne M</td>\n",
       "      <td>False</td>\n",
       "      <td>Koh-I-Noor Progresso Woodless Colored 24-Penci...</td>\n",
       "      <td>['Koh-I-Noor Progresso Woodless Colored 24-Pen...</td>\n",
       "      <td>['https://images-na.ssl-images-amazon.com/imag...</td>\n",
       "      <td>KOH-I-NOOR</td>\n",
       "      <td>['Rich, pigmented, solid color encased in lacq...</td>\n",
       "      <td>Arts_Crafts_and_Sewing</td>\n",
       "      <td>$14.18</td>\n",
       "      <td>5.0</td>\n",
       "      <td>2018-01-01</td>\n",
       "      <td>Loving!!</td>\n",
       "      <td>I LOVE THEM!! I bought them at Micheals our of...</td>\n",
       "      <td>0</td>\n",
       "    </tr>\n",
       "    <tr>\n",
       "      <th>4</th>\n",
       "      <td>Sandy</td>\n",
       "      <td>True</td>\n",
       "      <td>Parker Urban Premium Ebony Metal Chiseled, Bal...</td>\n",
       "      <td>[\"Stunning craftsmanship based on a classic st...</td>\n",
       "      <td>['https://images-na.ssl-images-amazon.com/imag...</td>\n",
       "      <td>Parker</td>\n",
       "      <td>['Ebony black with metallic highlights and a g...</td>\n",
       "      <td>Office_Products</td>\n",
       "      <td>NaN</td>\n",
       "      <td>5.0</td>\n",
       "      <td>2018-01-01</td>\n",
       "      <td>I love this pen</td>\n",
       "      <td>I love this pen! I love the shape of it, the f...</td>\n",
       "      <td>0</td>\n",
       "    </tr>\n",
       "    <tr>\n",
       "      <th>...</th>\n",
       "      <td>...</td>\n",
       "      <td>...</td>\n",
       "      <td>...</td>\n",
       "      <td>...</td>\n",
       "      <td>...</td>\n",
       "      <td>...</td>\n",
       "      <td>...</td>\n",
       "      <td>...</td>\n",
       "      <td>...</td>\n",
       "      <td>...</td>\n",
       "      <td>...</td>\n",
       "      <td>...</td>\n",
       "      <td>...</td>\n",
       "      <td>...</td>\n",
       "    </tr>\n",
       "    <tr>\n",
       "      <th>551154</th>\n",
       "      <td>Greg</td>\n",
       "      <td>True</td>\n",
       "      <td>Pandahall 10m(32.80 feet) Platinum Color Iron ...</td>\n",
       "      <td>['Iron Twist Chains, Platinum Color&lt;P&gt;Size: Ri...</td>\n",
       "      <td>['https://images-na.ssl-images-amazon.com/imag...</td>\n",
       "      <td>PH PandaHall</td>\n",
       "      <td>['Iron Twist Chains, Platinum Color, Ring: abo...</td>\n",
       "      <td>Arts_Crafts_and_Sewing</td>\n",
       "      <td>$8.29</td>\n",
       "      <td>2.0</td>\n",
       "      <td>2018-10-03</td>\n",
       "      <td>Two Stars</td>\n",
       "      <td>Cheap price but weak chain.</td>\n",
       "      <td>0</td>\n",
       "    </tr>\n",
       "    <tr>\n",
       "      <th>551155</th>\n",
       "      <td>Gayle LaRue</td>\n",
       "      <td>True</td>\n",
       "      <td>Keter Westwood Plastic Deck Storage Container ...</td>\n",
       "      <td>['Plenty of storage and comfortable seating, a...</td>\n",
       "      <td>['https://images-na.ssl-images-amazon.com/imag...</td>\n",
       "      <td>Keter</td>\n",
       "      <td>['Outside Dimensions: 61 in. L x 28.5 in. W x ...</td>\n",
       "      <td>Patio_Lawn_and_Garden</td>\n",
       "      <td>$121.76</td>\n",
       "      <td>4.0</td>\n",
       "      <td>2018-10-03</td>\n",
       "      <td>Deck box good investment</td>\n",
       "      <td>Great deck box</td>\n",
       "      <td>0</td>\n",
       "    </tr>\n",
       "    <tr>\n",
       "      <th>551156</th>\n",
       "      <td>Alfred D. Wallace</td>\n",
       "      <td>True</td>\n",
       "      <td>AcuRite 06052M Remote Battery Pack for 5-in-1 ...</td>\n",
       "      <td>[\"The AcuRite remote battery pack plugs into t...</td>\n",
       "      <td>['https://images-na.ssl-images-amazon.com/imag...</td>\n",
       "      <td>AcuRite</td>\n",
       "      <td>['Makes battery replacement easy for AcuRite 5...</td>\n",
       "      <td>Patio_Lawn_and_Garden</td>\n",
       "      <td>$19.95</td>\n",
       "      <td>5.0</td>\n",
       "      <td>2018-10-03</td>\n",
       "      <td>This will keep the old man off the roof!</td>\n",
       "      <td>Putting these in my weather station. I anticip...</td>\n",
       "      <td>0</td>\n",
       "    </tr>\n",
       "    <tr>\n",
       "      <th>551157</th>\n",
       "      <td>Dave Dunn Wilmer</td>\n",
       "      <td>True</td>\n",
       "      <td>Keter Unity XL Indoor Outdoor Entertainment BB...</td>\n",
       "      <td>['The extra-large outdoor entertainment statio...</td>\n",
       "      <td>['https://images-na.ssl-images-amazon.com/imag...</td>\n",
       "      <td>Keter</td>\n",
       "      <td>['Dimensions: 53.1 in. L x 20.4 in. W x 35.4 i...</td>\n",
       "      <td>Patio_Lawn_and_Garden</td>\n",
       "      <td>$155.64</td>\n",
       "      <td>5.0</td>\n",
       "      <td>2018-10-03</td>\n",
       "      <td>EASY TO ASSEMBLE AND WORKS WELL NEXT TO GRILL</td>\n",
       "      <td>This is a nice quality grilling table where yo...</td>\n",
       "      <td>0</td>\n",
       "    </tr>\n",
       "    <tr>\n",
       "      <th>551158</th>\n",
       "      <td>Stacy A. Johnson</td>\n",
       "      <td>True</td>\n",
       "      <td>Pop-Tarts Breakfast Toaster Pastries, Flavored...</td>\n",
       "      <td>['Pop-Tarts Frosted Strawberry, Frosted Bluebe...</td>\n",
       "      <td>['https://images-na.ssl-images-amazon.com/imag...</td>\n",
       "      <td>Pop-Tarts</td>\n",
       "      <td>[]</td>\n",
       "      <td>Prime_Pantry</td>\n",
       "      <td>$3.69</td>\n",
       "      <td>5.0</td>\n",
       "      <td>2018-10-04</td>\n",
       "      <td>My family Loves PopTarts</td>\n",
       "      <td>This is a nice variety pack for the whole family.</td>\n",
       "      <td>0</td>\n",
       "    </tr>\n",
       "  </tbody>\n",
       "</table>\n",
       "<p>551159 rows × 14 columns</p>\n",
       "</div>"
      ],
      "text/plain": [
       "                 userName  verified  \\\n",
       "0         Amazon Customer      True   \n",
       "1                   Carla      True   \n",
       "2                  Jaclyn      True   \n",
       "3            Christinne M     False   \n",
       "4                   Sandy      True   \n",
       "...                   ...       ...   \n",
       "551154               Greg      True   \n",
       "551155        Gayle LaRue      True   \n",
       "551156  Alfred D. Wallace      True   \n",
       "551157   Dave Dunn Wilmer      True   \n",
       "551158   Stacy A. Johnson      True   \n",
       "\n",
       "                                                 itemName  \\\n",
       "0       Toblerone Swiss Milk Chocolate Bar, Crunchy Sa...   \n",
       "1       Prince of Peace Organic Tea, Oolong, 100 Tea Bags   \n",
       "2       Pet Champion Adjustable No-Pull Harness, Colla...   \n",
       "3       Koh-I-Noor Progresso Woodless Colored 24-Penci...   \n",
       "4       Parker Urban Premium Ebony Metal Chiseled, Bal...   \n",
       "...                                                   ...   \n",
       "551154  Pandahall 10m(32.80 feet) Platinum Color Iron ...   \n",
       "551155  Keter Westwood Plastic Deck Storage Container ...   \n",
       "551156  AcuRite 06052M Remote Battery Pack for 5-in-1 ...   \n",
       "551157  Keter Unity XL Indoor Outdoor Entertainment BB...   \n",
       "551158  Pop-Tarts Breakfast Toaster Pastries, Flavored...   \n",
       "\n",
       "                                              description  \\\n",
       "0       [\"Made from deliciously decadent ingredients, ...   \n",
       "1       ['Prince of Peace Enterprises, Inc., founded i...   \n",
       "2       [\"The Pet Champion Large/ Extra Large 22-36 in...   \n",
       "3       ['Koh-I-Noor Progresso Woodless Colored 24-Pen...   \n",
       "4       [\"Stunning craftsmanship based on a classic st...   \n",
       "...                                                   ...   \n",
       "551154  ['Iron Twist Chains, Platinum Color<P>Size: Ri...   \n",
       "551155  ['Plenty of storage and comfortable seating, a...   \n",
       "551156  [\"The AcuRite remote battery pack plugs into t...   \n",
       "551157  ['The extra-large outdoor entertainment statio...   \n",
       "551158  ['Pop-Tarts Frosted Strawberry, Frosted Bluebe...   \n",
       "\n",
       "                                                    image            brand  \\\n",
       "0       ['https://images-na.ssl-images-amazon.com/imag...        Toblerone   \n",
       "1       ['https://images-na.ssl-images-amazon.com/imag...  Prince Of Peace   \n",
       "2       ['https://images-na.ssl-images-amazon.com/imag...     Pet Champion   \n",
       "3       ['https://images-na.ssl-images-amazon.com/imag...       KOH-I-NOOR   \n",
       "4       ['https://images-na.ssl-images-amazon.com/imag...           Parker   \n",
       "...                                                   ...              ...   \n",
       "551154  ['https://images-na.ssl-images-amazon.com/imag...     PH PandaHall   \n",
       "551155  ['https://images-na.ssl-images-amazon.com/imag...            Keter   \n",
       "551156  ['https://images-na.ssl-images-amazon.com/imag...          AcuRite   \n",
       "551157  ['https://images-na.ssl-images-amazon.com/imag...            Keter   \n",
       "551158  ['https://images-na.ssl-images-amazon.com/imag...        Pop-Tarts   \n",
       "\n",
       "                                                  feature  \\\n",
       "0                                                      []   \n",
       "1                                                      []   \n",
       "2       ['Features Bright Pink Lemonade pattern', 'Dua...   \n",
       "3       ['Rich, pigmented, solid color encased in lacq...   \n",
       "4       ['Ebony black with metallic highlights and a g...   \n",
       "...                                                   ...   \n",
       "551154  ['Iron Twist Chains, Platinum Color, Ring: abo...   \n",
       "551155  ['Outside Dimensions: 61 in. L x 28.5 in. W x ...   \n",
       "551156  ['Makes battery replacement easy for AcuRite 5...   \n",
       "551157  ['Dimensions: 53.1 in. L x 20.4 in. W x 35.4 i...   \n",
       "551158                                                 []   \n",
       "\n",
       "                        category    price  rating  reviewTime  \\\n",
       "0                   Prime_Pantry    $1.63     5.0  2018-01-01   \n",
       "1       Grocery_and_Gourmet_Food    $6.40     5.0  2018-01-01   \n",
       "2                   Pet_Supplies    $7.99     5.0  2018-01-01   \n",
       "3         Arts_Crafts_and_Sewing   $14.18     5.0  2018-01-01   \n",
       "4                Office_Products      NaN     5.0  2018-01-01   \n",
       "...                          ...      ...     ...         ...   \n",
       "551154    Arts_Crafts_and_Sewing    $8.29     2.0  2018-10-03   \n",
       "551155     Patio_Lawn_and_Garden  $121.76     4.0  2018-10-03   \n",
       "551156     Patio_Lawn_and_Garden   $19.95     5.0  2018-10-03   \n",
       "551157     Patio_Lawn_and_Garden  $155.64     5.0  2018-10-03   \n",
       "551158              Prime_Pantry    $3.69     5.0  2018-10-04   \n",
       "\n",
       "                                                  summary  \\\n",
       "0                                              Five Stars   \n",
       "1                                              Five Stars   \n",
       "2       she has an odd shape chest and her pull over h...   \n",
       "3                                                Loving!!   \n",
       "4                                         I love this pen   \n",
       "...                                                   ...   \n",
       "551154                                          Two Stars   \n",
       "551155                           Deck box good investment   \n",
       "551156           This will keep the old man off the roof!   \n",
       "551157      EASY TO ASSEMBLE AND WORKS WELL NEXT TO GRILL   \n",
       "551158                           My family Loves PopTarts   \n",
       "\n",
       "                                               reviewText  vote  \n",
       "0                super smooth and yummy with crunchy bits     0  \n",
       "1                                    Perfect for kombucha     0  \n",
       "2       Finally a harness that fits my puppy. I really...     0  \n",
       "3       I LOVE THEM!! I bought them at Micheals our of...     0  \n",
       "4       I love this pen! I love the shape of it, the f...     0  \n",
       "...                                                   ...   ...  \n",
       "551154                        Cheap price but weak chain.     0  \n",
       "551155                                     Great deck box     0  \n",
       "551156  Putting these in my weather station. I anticip...     0  \n",
       "551157  This is a nice quality grilling table where yo...     0  \n",
       "551158  This is a nice variety pack for the whole family.     0  \n",
       "\n",
       "[551159 rows x 14 columns]"
      ]
     },
     "execution_count": 3,
     "metadata": {},
     "output_type": "execute_result"
    }
   ],
   "source": [
    "df = pd.read_csv('amazon_reviews.csv')\n",
    "df"
   ]
  },
  {
   "cell_type": "code",
   "execution_count": 34,
   "id": "d6e5c65a",
   "metadata": {},
   "outputs": [
    {
     "data": {
      "text/html": [
       "<div>\n",
       "<style scoped>\n",
       "    .dataframe tbody tr th:only-of-type {\n",
       "        vertical-align: middle;\n",
       "    }\n",
       "\n",
       "    .dataframe tbody tr th {\n",
       "        vertical-align: top;\n",
       "    }\n",
       "\n",
       "    .dataframe thead th {\n",
       "        text-align: right;\n",
       "    }\n",
       "</style>\n",
       "<table border=\"1\" class=\"dataframe\">\n",
       "  <thead>\n",
       "    <tr style=\"text-align: right;\">\n",
       "      <th></th>\n",
       "      <th>overall</th>\n",
       "      <th>reviewText</th>\n",
       "      <th>summary</th>\n",
       "    </tr>\n",
       "  </thead>\n",
       "  <tbody>\n",
       "    <tr>\n",
       "      <th>0</th>\n",
       "      <td>5</td>\n",
       "      <td>Hope they come back with this scent</td>\n",
       "      <td></td>\n",
       "    </tr>\n",
       "    <tr>\n",
       "      <th>1</th>\n",
       "      <td>5</td>\n",
       "      <td>I have had this shower gel once before, and it...</td>\n",
       "      <td>Ah-Mazing!</td>\n",
       "    </tr>\n",
       "    <tr>\n",
       "      <th>2</th>\n",
       "      <td>3</td>\n",
       "      <td>I like most of the soaps in this line, but thi...</td>\n",
       "      <td>Too heavily scented for me</td>\n",
       "    </tr>\n",
       "    <tr>\n",
       "      <th>3</th>\n",
       "      <td>5</td>\n",
       "      <td>I have used this off and on for several years ...</td>\n",
       "      <td>Curly Hair</td>\n",
       "    </tr>\n",
       "    <tr>\n",
       "      <th>4</th>\n",
       "      <td>3</td>\n",
       "      <td>Jim and I are over 50. I ordered the Crest Pro...</td>\n",
       "      <td>Sounded good until I read the label</td>\n",
       "    </tr>\n",
       "    <tr>\n",
       "      <th>...</th>\n",
       "      <td>...</td>\n",
       "      <td>...</td>\n",
       "      <td>...</td>\n",
       "    </tr>\n",
       "    <tr>\n",
       "      <th>1359</th>\n",
       "      <td>5</td>\n",
       "      <td>my wife loved it ,and thanked me ,she gets goo...</td>\n",
       "      <td></td>\n",
       "    </tr>\n",
       "    <tr>\n",
       "      <th>1360</th>\n",
       "      <td>5</td>\n",
       "      <td>This is one of my favorite bath and body produ...</td>\n",
       "      <td>Bath and Body Wash Gels</td>\n",
       "    </tr>\n",
       "    <tr>\n",
       "      <th>1361</th>\n",
       "      <td>5</td>\n",
       "      <td>I have used this product for years. It is the ...</td>\n",
       "      <td>I have used this product for years. It is ...</td>\n",
       "    </tr>\n",
       "    <tr>\n",
       "      <th>1362</th>\n",
       "      <td>5</td>\n",
       "      <td>my wife loves this bath soap, too bad its too ...</td>\n",
       "      <td>Would buy more if it wasn't so hard to come by</td>\n",
       "    </tr>\n",
       "    <tr>\n",
       "      <th>1363</th>\n",
       "      <td>5</td>\n",
       "      <td>I love this lotion and use it under make up fo...</td>\n",
       "      <td>Lotion</td>\n",
       "    </tr>\n",
       "  </tbody>\n",
       "</table>\n",
       "<p>1362 rows × 3 columns</p>\n",
       "</div>"
      ],
      "text/plain": [
       "      overall                                         reviewText  \\\n",
       "0           5                Hope they come back with this scent   \n",
       "1           5  I have had this shower gel once before, and it...   \n",
       "2           3  I like most of the soaps in this line, but thi...   \n",
       "3           5  I have used this off and on for several years ...   \n",
       "4           3  Jim and I are over 50. I ordered the Crest Pro...   \n",
       "...       ...                                                ...   \n",
       "1359        5  my wife loved it ,and thanked me ,she gets goo...   \n",
       "1360        5  This is one of my favorite bath and body produ...   \n",
       "1361        5  I have used this product for years. It is the ...   \n",
       "1362        5  my wife loves this bath soap, too bad its too ...   \n",
       "1363        5  I love this lotion and use it under make up fo...   \n",
       "\n",
       "                                             summary  \n",
       "0                                                     \n",
       "1                                         Ah-Mazing!  \n",
       "2                         Too heavily scented for me  \n",
       "3                                         Curly Hair  \n",
       "4                Sounded good until I read the label  \n",
       "...                                              ...  \n",
       "1359                                                  \n",
       "1360                         Bath and Body Wash Gels  \n",
       "1361   I have used this product for years. It is ...  \n",
       "1362  Would buy more if it wasn't so hard to come by  \n",
       "1363                                          Lotion  \n",
       "\n",
       "[1362 rows x 3 columns]"
      ]
     },
     "execution_count": 34,
     "metadata": {},
     "output_type": "execute_result"
    }
   ],
   "source": [
    "df_processed"
   ]
  },
  {
   "cell_type": "code",
   "execution_count": 52,
   "id": "aca94fe0",
   "metadata": {
    "scrolled": true
   },
   "outputs": [
    {
     "name": "stderr",
     "output_type": "stream",
     "text": [
      "\r",
      "Processing files:   0%|                                                                         | 0/32 [00:00<?, ?it/s]"
     ]
    },
    {
     "name": "stdout",
     "output_type": "stream",
     "text": [
      "All_Beauty_5.json *************************\n",
      "5    300\n",
      "4    152\n",
      "3     64\n",
      "1     30\n",
      "2     26\n",
      "Name: output_field, dtype: int64\n",
      "AMAZON_FASHION_5.json *************************\n",
      "5    291\n",
      "4     66\n",
      "3     49\n",
      "1     17\n",
      "2     15\n",
      "Name: output_field, dtype: int64\n",
      "Appliances_5.json *************************\n",
      "5    113\n",
      "4     12\n",
      "2      7\n",
      "3      7\n",
      "1      5\n",
      "Name: output_field, dtype: int64\n",
      "Arts_Crafts_and_Sewing_5.json *************************\n"
     ]
    },
    {
     "name": "stderr",
     "output_type": "stream",
     "text": [
      "\r",
      "Processing files:  16%|██████████▏                                                      | 5/32 [00:00<00:03,  6.93it/s]"
     ]
    },
    {
     "name": "stdout",
     "output_type": "stream",
     "text": [
      "5    300\n",
      "1    200\n",
      "3    200\n",
      "4    200\n",
      "2    100\n",
      "Name: output_field, dtype: int64\n",
      "Automotive_5.json *************************\n"
     ]
    },
    {
     "name": "stderr",
     "output_type": "stream",
     "text": [
      "\r",
      "Processing files:  19%|████████████▏                                                    | 6/32 [00:01<00:06,  3.96it/s]"
     ]
    },
    {
     "name": "stdout",
     "output_type": "stream",
     "text": [
      "5    300\n",
      "1    200\n",
      "3    200\n",
      "4    200\n",
      "2    100\n",
      "Name: output_field, dtype: int64\n",
      "Books_5.json *************************\n"
     ]
    },
    {
     "name": "stderr",
     "output_type": "stream",
     "text": [
      "\r",
      "Processing files:  22%|██████████████▏                                                  | 7/32 [00:02<00:09,  2.53it/s]"
     ]
    },
    {
     "name": "stdout",
     "output_type": "stream",
     "text": [
      "5    300\n",
      "1    200\n",
      "3    200\n",
      "4    200\n",
      "2    100\n",
      "Name: output_field, dtype: int64\n",
      "CDs_and_Vinyl_5.json *************************\n"
     ]
    },
    {
     "name": "stderr",
     "output_type": "stream",
     "text": [
      "\r",
      "Processing files:  25%|████████████████▎                                                | 8/32 [00:03<00:13,  1.83it/s]"
     ]
    },
    {
     "name": "stdout",
     "output_type": "stream",
     "text": [
      "5    300\n",
      "1    200\n",
      "3    200\n",
      "4    200\n",
      "2    100\n",
      "Name: output_field, dtype: int64\n",
      "Cell_Phones_and_Accessories_5.json *************************\n"
     ]
    },
    {
     "name": "stderr",
     "output_type": "stream",
     "text": [
      "\r",
      "Processing files:  28%|██████████████████▎                                              | 9/32 [00:03<00:13,  1.71it/s]"
     ]
    },
    {
     "name": "stdout",
     "output_type": "stream",
     "text": [
      "5    300\n",
      "1    200\n",
      "3    200\n",
      "4    200\n",
      "2    100\n",
      "Name: output_field, dtype: int64\n",
      "Clothing_Shoes_and_Jewelry_5.json *************************\n"
     ]
    },
    {
     "name": "stderr",
     "output_type": "stream",
     "text": [
      "\r",
      "Processing files:  31%|████████████████████                                            | 10/32 [00:04<00:13,  1.68it/s]"
     ]
    },
    {
     "name": "stdout",
     "output_type": "stream",
     "text": [
      "5    300\n",
      "1    200\n",
      "3    200\n",
      "4    200\n",
      "2    100\n",
      "Name: output_field, dtype: int64\n",
      "Digital_Music_5.json *************************\n"
     ]
    },
    {
     "name": "stderr",
     "output_type": "stream",
     "text": [
      "\r",
      "Processing files:  34%|██████████████████████                                          | 11/32 [00:05<00:12,  1.63it/s]"
     ]
    },
    {
     "name": "stdout",
     "output_type": "stream",
     "text": [
      "5    300\n",
      "1    200\n",
      "3    200\n",
      "4    200\n",
      "2    100\n",
      "Name: output_field, dtype: int64\n",
      "Electronics_5.json *************************\n"
     ]
    },
    {
     "name": "stderr",
     "output_type": "stream",
     "text": [
      "\r",
      "Processing files:  38%|████████████████████████                                        | 12/32 [00:05<00:12,  1.54it/s]"
     ]
    },
    {
     "name": "stdout",
     "output_type": "stream",
     "text": [
      "5    300\n",
      "1    200\n",
      "3    200\n",
      "4    200\n",
      "2    100\n",
      "Name: output_field, dtype: int64\n",
      "Gift_Cards_5.json *************************\n",
      "5    300\n",
      "4    112\n",
      "3     28\n",
      "1     17\n",
      "2     10\n",
      "Name: output_field, dtype: int64\n",
      "Grocery_and_Gourmet_Food_5.json *************************\n"
     ]
    },
    {
     "name": "stderr",
     "output_type": "stream",
     "text": [
      "\r",
      "Processing files:  44%|████████████████████████████                                    | 14/32 [00:06<00:09,  1.93it/s]"
     ]
    },
    {
     "name": "stdout",
     "output_type": "stream",
     "text": [
      "5    300\n",
      "1    200\n",
      "3    200\n",
      "4    200\n",
      "2    100\n",
      "Name: output_field, dtype: int64\n",
      "Home_and_Kitchen_5.json *************************\n"
     ]
    },
    {
     "name": "stderr",
     "output_type": "stream",
     "text": [
      "\r",
      "Processing files:  47%|██████████████████████████████                                  | 15/32 [00:07<00:09,  1.76it/s]"
     ]
    },
    {
     "name": "stdout",
     "output_type": "stream",
     "text": [
      "5    300\n",
      "1    200\n",
      "3    200\n",
      "4    200\n",
      "2    100\n",
      "Name: output_field, dtype: int64\n",
      "Industrial_and_Scientific_5.json *************************\n"
     ]
    },
    {
     "name": "stderr",
     "output_type": "stream",
     "text": [
      "\r",
      "Processing files:  50%|████████████████████████████████                                | 16/32 [00:08<00:09,  1.65it/s]"
     ]
    },
    {
     "name": "stdout",
     "output_type": "stream",
     "text": [
      "5    300\n",
      "1    200\n",
      "3    200\n",
      "4    200\n",
      "2    100\n",
      "Name: output_field, dtype: int64\n",
      "Kindle_Store_5.json *************************\n"
     ]
    },
    {
     "name": "stderr",
     "output_type": "stream",
     "text": [
      "\r",
      "Processing files:  53%|██████████████████████████████████                              | 17/32 [00:08<00:10,  1.47it/s]"
     ]
    },
    {
     "name": "stdout",
     "output_type": "stream",
     "text": [
      "5    300\n",
      "1    200\n",
      "3    200\n",
      "4    200\n",
      "2    100\n",
      "Name: output_field, dtype: int64\n",
      "Luxury_Beauty_5.json *************************\n"
     ]
    },
    {
     "name": "stderr",
     "output_type": "stream",
     "text": [
      "\r",
      "Processing files:  56%|████████████████████████████████████                            | 18/32 [00:09<00:09,  1.46it/s]"
     ]
    },
    {
     "name": "stdout",
     "output_type": "stream",
     "text": [
      "5    300\n",
      "1    200\n",
      "3    200\n",
      "4    200\n",
      "2    100\n",
      "Name: output_field, dtype: int64\n",
      "Magazine_Subscriptions_5.json *************************\n",
      "5    300\n",
      "3    200\n",
      "4    200\n",
      "2    100\n",
      "1     87\n",
      "Name: output_field, dtype: int64\n",
      "Movies_and_TV_5.json *************************\n"
     ]
    },
    {
     "name": "stderr",
     "output_type": "stream",
     "text": [
      "\r",
      "Processing files:  62%|████████████████████████████████████████                        | 20/32 [00:10<00:06,  1.72it/s]"
     ]
    },
    {
     "name": "stdout",
     "output_type": "stream",
     "text": [
      "5    300\n",
      "1    200\n",
      "3    200\n",
      "4    200\n",
      "2    100\n",
      "Name: output_field, dtype: int64\n",
      "Musical_Instruments_5.json *************************\n"
     ]
    },
    {
     "name": "stderr",
     "output_type": "stream",
     "text": [
      "\r",
      "Processing files:  66%|██████████████████████████████████████████                      | 21/32 [00:11<00:06,  1.63it/s]"
     ]
    },
    {
     "name": "stdout",
     "output_type": "stream",
     "text": [
      "5    300\n",
      "1    200\n",
      "3    200\n",
      "4    200\n",
      "2    100\n",
      "Name: output_field, dtype: int64\n",
      "Office_Products_5.json *************************\n"
     ]
    },
    {
     "name": "stderr",
     "output_type": "stream",
     "text": [
      "\r",
      "Processing files:  69%|████████████████████████████████████████████                    | 22/32 [00:11<00:06,  1.59it/s]"
     ]
    },
    {
     "name": "stdout",
     "output_type": "stream",
     "text": [
      "5    300\n",
      "1    200\n",
      "3    200\n",
      "4    200\n",
      "2    100\n",
      "Name: output_field, dtype: int64\n",
      "Patio_Lawn_and_Garden_5.json *************************\n"
     ]
    },
    {
     "name": "stderr",
     "output_type": "stream",
     "text": [
      "\r",
      "Processing files:  72%|██████████████████████████████████████████████                  | 23/32 [00:12<00:05,  1.52it/s]"
     ]
    },
    {
     "name": "stdout",
     "output_type": "stream",
     "text": [
      "5    300\n",
      "1    200\n",
      "3    200\n",
      "4    200\n",
      "2    100\n",
      "Name: output_field, dtype: int64\n",
      "Pet_Supplies_5.json *************************\n"
     ]
    },
    {
     "name": "stderr",
     "output_type": "stream",
     "text": [
      "\r",
      "Processing files:  75%|████████████████████████████████████████████████                | 24/32 [00:13<00:05,  1.37it/s]"
     ]
    },
    {
     "name": "stdout",
     "output_type": "stream",
     "text": [
      "5    300\n",
      "1    200\n",
      "3    200\n",
      "4    200\n",
      "2    100\n",
      "Name: output_field, dtype: int64\n",
      "Prime_Pantry_5.json *************************\n"
     ]
    },
    {
     "name": "stderr",
     "output_type": "stream",
     "text": [
      "\r",
      "Processing files:  78%|██████████████████████████████████████████████████              | 25/32 [00:14<00:04,  1.45it/s]"
     ]
    },
    {
     "name": "stdout",
     "output_type": "stream",
     "text": [
      "5    300\n",
      "1    200\n",
      "3    200\n",
      "4    200\n",
      "2    100\n",
      "Name: output_field, dtype: int64\n",
      "Software_5.json *************************\n"
     ]
    },
    {
     "name": "stderr",
     "output_type": "stream",
     "text": [
      "\r",
      "Processing files:  84%|██████████████████████████████████████████████████████          | 27/32 [00:14<00:02,  2.08it/s]"
     ]
    },
    {
     "name": "stdout",
     "output_type": "stream",
     "text": [
      "5    300\n",
      "1    200\n",
      "3    200\n",
      "4    200\n",
      "2    100\n",
      "Name: output_field, dtype: int64\n",
      "Sports_and_Outdoors_5.json *************************\n"
     ]
    },
    {
     "name": "stderr",
     "output_type": "stream",
     "text": [
      "\r",
      "Processing files:  88%|████████████████████████████████████████████████████████        | 28/32 [00:15<00:02,  1.86it/s]"
     ]
    },
    {
     "name": "stdout",
     "output_type": "stream",
     "text": [
      "5    300\n",
      "1    200\n",
      "3    200\n",
      "4    200\n",
      "2    100\n",
      "Name: output_field, dtype: int64\n",
      "Tools_and_Home_Improvement_5.json *************************\n"
     ]
    },
    {
     "name": "stderr",
     "output_type": "stream",
     "text": [
      "\r",
      "Processing files:  91%|██████████████████████████████████████████████████████████      | 29/32 [00:16<00:01,  1.73it/s]"
     ]
    },
    {
     "name": "stdout",
     "output_type": "stream",
     "text": [
      "5    300\n",
      "1    200\n",
      "3    200\n",
      "4    200\n",
      "2    100\n",
      "Name: output_field, dtype: int64\n",
      "Toys_and_Games_5.json *************************\n"
     ]
    },
    {
     "name": "stderr",
     "output_type": "stream",
     "text": [
      "\r",
      "Processing files:  94%|████████████████████████████████████████████████████████████    | 30/32 [00:16<00:01,  1.68it/s]"
     ]
    },
    {
     "name": "stdout",
     "output_type": "stream",
     "text": [
      "5    300\n",
      "1    200\n",
      "3    200\n",
      "4    200\n",
      "2    100\n",
      "Name: output_field, dtype: int64\n",
      "Video_Games_5.json *************************\n"
     ]
    },
    {
     "name": "stderr",
     "output_type": "stream",
     "text": [
      "Processing files: 100%|████████████████████████████████████████████████████████████████| 32/32 [00:17<00:00,  1.82it/s]"
     ]
    },
    {
     "name": "stdout",
     "output_type": "stream",
     "text": [
      "5    300\n",
      "1    200\n",
      "3    200\n",
      "4    200\n",
      "2    100\n",
      "Name: output_field, dtype: int64\n"
     ]
    },
    {
     "name": "stderr",
     "output_type": "stream",
     "text": [
      "\n"
     ]
    }
   ],
   "source": [
    "import pandas as pd\n",
    "import copy\n",
    "from tqdm import tqdm\n",
    "import os\n",
    "\n",
    "for json_file_path in tqdm(os.listdir(\".\"), desc=\"Processing files\"):\n",
    "    if json_file_path.endswith(\".json\"):\n",
    "        print(json_file_path, \"*************************\")\n",
    "\n",
    "        # Read the JSON file and remove duplicates\n",
    "        df = pd.read_json(json_file_path, lines=True)\n",
    "        df = df.drop_duplicates(\"reviewText\")\n",
    "\n",
    "        # Deep copy the DataFrame\n",
    "        df_processed = copy.deepcopy(df)\n",
    "        df_processed = df_processed[~df_processed['summary'].isna()]\n",
    "        df_processed = df_processed[~df_processed['reviewText'].isna()]\n",
    "\n",
    "        # List of strings to replace\n",
    "        tmp = [\"One Stars\", \"Two Stars\", \"Three Stars\", \"Four Stars\", \"Five Stars\",\n",
    "               \"1 Stars\", \"2 Stars\", \"3 Stars\", \"4 Stars\", \"5 Stars\",\n",
    "               \"1 stars\", \"2 stars\", \"3 stars\", \"4 stars\", \"5 stars\",\n",
    "               \"One stars\", \"Two stars\", \"Three stars\", \"Four stars\", \"Five stars\",\n",
    "               \"one stars\", \"two stars\", \"three stars\", \"four stars\", \"five stars\"]\n",
    "\n",
    "        # Iterate over summary and reviewText columns\n",
    "        def replace_unseen(x):\n",
    "            for word in tmp:\n",
    "                x = x.replace(word, \"\")\n",
    "            return x\n",
    "\n",
    "        for column in [\"summary\", \"reviewText\"]:\n",
    "            df_processed[column] = df_processed[column].apply(lambda x: replace_unseen(x))\n",
    "\n",
    "        def generate_prompt(row):\n",
    "            if row['summary'] != \"\":\n",
    "                prompt = f\"Instructions: Evaluate the following product review on a scale of 1 to 5, \" \\\n",
    "                         f\"with 1 being very negative and 5 being very positive. \\nInput: a review text for a(n) \" \\\n",
    "                         f\"product\\n{row['summary']}\\n{row['reviewText']}\\nAnswer: \"\n",
    "            else:\n",
    "                prompt = f\"Instructions: Evaluate the following product review on a scale of 1 to 5, \" \\\n",
    "                         f\"with 1 being very negative and 5 being very positive. \\nInput: a review text for a(n) \" \\\n",
    "                         f\"product\\n{row['reviewText']}\\nAnswer: \"\n",
    "            return prompt\n",
    "\n",
    "        final_df = copy.deepcopy(df_processed)\n",
    "        final_df['prompt'] = final_df.apply(lambda row: generate_prompt(row), axis=1)\n",
    "        final_df.rename(columns={\"overall\": \"output_field\"}, inplace=True)\n",
    "\n",
    "        def sample_by_kind(df):\n",
    "            # Assuming final_df is your DataFrame and score column contains values between 1 and 5\n",
    "            # Assuming you want each category to be sampled at proportions 0.1, 0.2, 0.3, 0.2, 0.2\n",
    "            desired_proportions = {1: 0.2, 2: 0.1, 3: 0.2, 4: 0.2, 5: 0.3}\n",
    "\n",
    "            # Calculate the number of samples needed for each category\n",
    "            total_samples = 1000\n",
    "            sample_sizes = {score: int(desired_proportions[score] * total_samples) for score in desired_proportions}\n",
    "\n",
    "            # Create an empty DataFrame to store sampling results\n",
    "            sampled_data = pd.DataFrame()\n",
    "\n",
    "            # Sample each category\n",
    "            for score, size in sample_sizes.items():\n",
    "                # Get data for the current category\n",
    "                class_data = df[df['output_field'] == score]\n",
    "                # If the amount of data in the current category is less than the number of samples needed, add all data to the sampling result\n",
    "                if len(class_data) <= size:\n",
    "                    sampled_data = pd.concat([sampled_data, class_data])\n",
    "                else:\n",
    "                    sampled_data = pd.concat([sampled_data, class_data.sample(size, replace=False)])\n",
    "            \n",
    "            return sampled_data\n",
    "\n",
    "        final_df = sample_by_kind(final_df)\n",
    "        final_df = final_df.sample(frac=1)\n",
    "        print(final_df['output_field'].value_counts())\n",
    "\n",
    "        csv_path = json_file_path.replace(\"json\", \"csv\")\n",
    "        final_df[['prompt', 'output_field']].to_json(f\"sentiment/{json_file_path}\", orient=\"records\", lines=True)\n",
    "        final_df[['prompt', 'output_field']].to_csv(f\"sentiment/{csv_path}\", index=None)\n"
   ]
  },
  {
   "cell_type": "code",
   "execution_count": 6,
   "id": "d025a149",
   "metadata": {
    "scrolled": true
   },
   "outputs": [
    {
     "data": {
      "text/html": [
       "<div>\n",
       "<style scoped>\n",
       "    .dataframe tbody tr th:only-of-type {\n",
       "        vertical-align: middle;\n",
       "    }\n",
       "\n",
       "    .dataframe tbody tr th {\n",
       "        vertical-align: top;\n",
       "    }\n",
       "\n",
       "    .dataframe thead th {\n",
       "        text-align: right;\n",
       "    }\n",
       "</style>\n",
       "<table border=\"1\" class=\"dataframe\">\n",
       "  <thead>\n",
       "    <tr style=\"text-align: right;\">\n",
       "      <th></th>\n",
       "      <th>prompt</th>\n",
       "      <th>output_field</th>\n",
       "    </tr>\n",
       "  </thead>\n",
       "  <tbody>\n",
       "    <tr>\n",
       "      <th>0</th>\n",
       "      <td>Instructions: Evaluate the following product r...</td>\n",
       "      <td>5</td>\n",
       "    </tr>\n",
       "    <tr>\n",
       "      <th>1</th>\n",
       "      <td>Instructions: Evaluate the following product r...</td>\n",
       "      <td>5</td>\n",
       "    </tr>\n",
       "    <tr>\n",
       "      <th>2</th>\n",
       "      <td>Instructions: Evaluate the following product r...</td>\n",
       "      <td>1</td>\n",
       "    </tr>\n",
       "    <tr>\n",
       "      <th>3</th>\n",
       "      <td>Instructions: Evaluate the following product r...</td>\n",
       "      <td>5</td>\n",
       "    </tr>\n",
       "    <tr>\n",
       "      <th>4</th>\n",
       "      <td>Instructions: Evaluate the following product r...</td>\n",
       "      <td>3</td>\n",
       "    </tr>\n",
       "    <tr>\n",
       "      <th>...</th>\n",
       "      <td>...</td>\n",
       "      <td>...</td>\n",
       "    </tr>\n",
       "    <tr>\n",
       "      <th>995</th>\n",
       "      <td>Instructions: Evaluate the following product r...</td>\n",
       "      <td>1</td>\n",
       "    </tr>\n",
       "    <tr>\n",
       "      <th>996</th>\n",
       "      <td>Instructions: Evaluate the following product r...</td>\n",
       "      <td>1</td>\n",
       "    </tr>\n",
       "    <tr>\n",
       "      <th>997</th>\n",
       "      <td>Instructions: Evaluate the following product r...</td>\n",
       "      <td>5</td>\n",
       "    </tr>\n",
       "    <tr>\n",
       "      <th>998</th>\n",
       "      <td>Instructions: Evaluate the following product r...</td>\n",
       "      <td>4</td>\n",
       "    </tr>\n",
       "    <tr>\n",
       "      <th>999</th>\n",
       "      <td>Instructions: Evaluate the following product r...</td>\n",
       "      <td>5</td>\n",
       "    </tr>\n",
       "  </tbody>\n",
       "</table>\n",
       "<p>26508 rows × 2 columns</p>\n",
       "</div>"
      ],
      "text/plain": [
       "                                                prompt  output_field\n",
       "0    Instructions: Evaluate the following product r...             5\n",
       "1    Instructions: Evaluate the following product r...             5\n",
       "2    Instructions: Evaluate the following product r...             1\n",
       "3    Instructions: Evaluate the following product r...             5\n",
       "4    Instructions: Evaluate the following product r...             3\n",
       "..                                                 ...           ...\n",
       "995  Instructions: Evaluate the following product r...             1\n",
       "996  Instructions: Evaluate the following product r...             1\n",
       "997  Instructions: Evaluate the following product r...             5\n",
       "998  Instructions: Evaluate the following product r...             4\n",
       "999  Instructions: Evaluate the following product r...             5\n",
       "\n",
       "[26508 rows x 2 columns]"
      ]
     },
     "execution_count": 6,
     "metadata": {},
     "output_type": "execute_result"
    }
   ],
   "source": [
    "all_part_data = [pd.read_csv(f\"sentiment/{i}\") for i in os.listdir(\"sentiment\") if i.endswith(\".csv\")]\n",
    "all_part_data = pd.concat(all_part_data)\n",
    "all_part_data"
   ]
  },
  {
   "cell_type": "code",
   "execution_count": null,
   "id": "c8bb2d4a",
   "metadata": {},
   "outputs": [],
   "source": []
  }
 ],
 "metadata": {
  "kernelspec": {
   "display_name": "Python 3 (ipykernel)",
   "language": "python",
   "name": "python3"
  },
  "language_info": {
   "codemirror_mode": {
    "name": "ipython",
    "version": 3
   },
   "file_extension": ".py",
   "mimetype": "text/x-python",
   "name": "python",
   "nbconvert_exporter": "python",
   "pygments_lexer": "ipython3",
   "version": "3.9.19"
  }
 },
 "nbformat": 4,
 "nbformat_minor": 5
}
